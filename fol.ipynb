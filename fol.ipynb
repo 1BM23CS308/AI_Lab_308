{
  "nbformat": 4,
  "nbformat_minor": 0,
  "metadata": {
    "colab": {
      "provenance": [],
      "authorship_tag": "ABX9TyP6WTuPH1FIvZ/bHIbSXh+R",
      "include_colab_link": true
    },
    "kernelspec": {
      "name": "python3",
      "display_name": "Python 3"
    },
    "language_info": {
      "name": "python"
    }
  },
  "cells": [
    {
      "cell_type": "markdown",
      "metadata": {
        "id": "view-in-github",
        "colab_type": "text"
      },
      "source": [
        "<a href=\"https://colab.research.google.com/github/1BM23CS308/AI_Lab_308/blob/main/fol.ipynb\" target=\"_parent\"><img src=\"https://colab.research.google.com/assets/colab-badge.svg\" alt=\"Open In Colab\"/></a>"
      ]
    },
    {
      "cell_type": "code",
      "execution_count": 1,
      "metadata": {
        "colab": {
          "base_uri": "https://localhost:8080/"
        },
        "id": "eLjLHTvzHl_d",
        "outputId": "d0c8c8df-d83e-4636-8e14-cde7847feb6d"
      },
      "outputs": [
        {
          "output_type": "stream",
          "name": "stdout",
          "text": [
            "Inferred: ('Hostile', 'A')\n",
            "Inferred: ('Weapon', 'T1')\n",
            "Inferred: ('Sells', 'Robert', 'T1', 'A')\n",
            "Inferred: ('Criminal', 'Robert')\n",
            "\n",
            "Goal ('Criminal', 'Robert') reached!\n"
          ]
        },
        {
          "output_type": "execute_result",
          "data": {
            "text/plain": [
              "True"
            ]
          },
          "metadata": {},
          "execution_count": 1
        }
      ],
      "source": [
        "# Knowledge Base facts (initial known facts)\n",
        "\n",
        "facts = {\n",
        "    ('American', 'Robert'),\n",
        "    ('Enemy', 'A', 'America'),\n",
        "    ('Owns', 'A', 'T1'),\n",
        "    ('Missile', 'T1'),\n",
        "}\n",
        "\n",
        "# Rules encoded as functions that check if they can infer new facts\n",
        "def rule_enemy_to_hostile(facts):\n",
        "    # Enemy(x, America) => Hostile(x)\n",
        "    new_facts = set()\n",
        "    for fact in facts:\n",
        "        if fact[0] == 'Enemy' and fact[2] == 'America':\n",
        "            hostile_fact = ('Hostile', fact[1])\n",
        "            if hostile_fact not in facts:\n",
        "                new_facts.add(hostile_fact)\n",
        "    return new_facts\n",
        "\n",
        "def rule_missile_to_weapon(facts):\n",
        "    # Missile(x) => Weapon(x)\n",
        "    new_facts = set()\n",
        "    for fact in facts:\n",
        "        if fact[0] == 'Missile':\n",
        "            weapon_fact = ('Weapon', fact[1])\n",
        "            if weapon_fact not in facts:\n",
        "                new_facts.add(weapon_fact)\n",
        "    return new_facts\n",
        "\n",
        "def rule_missile_owns_to_sells(facts):\n",
        "    # Missile(x) ∧ Owns(A, x) => Sells(Robert, x, A)\n",
        "    new_facts = set()\n",
        "    missiles = {fact[1] for fact in facts if fact[0] == 'Missile'}\n",
        "    owns = {(fact[1], fact[2]) for fact in facts if fact[0] == 'Owns'}\n",
        "    for missile in missiles:\n",
        "        if ('A', missile) in owns:\n",
        "            sells_fact = ('Sells', 'Robert', missile, 'A')\n",
        "            if sells_fact not in facts:\n",
        "                new_facts.add(sells_fact)\n",
        "    return new_facts\n",
        "\n",
        "def rule_criminal(facts):\n",
        "    # American(p) ∧ Weapon(q) ∧ Sells(p, q, r) ∧ Hostile(r) => Criminal(p)\n",
        "    new_facts = set()\n",
        "    americans = {fact[1] for fact in facts if fact[0] == 'American'}\n",
        "    weapons = {fact[1] for fact in facts if fact[0] == 'Weapon'}\n",
        "    sells = {(fact[1], fact[2], fact[3]) for fact in facts if fact[0] == 'Sells'}\n",
        "    hostiles = {fact[1] for fact in facts if fact[0] == 'Hostile'}\n",
        "\n",
        "    for p in americans:\n",
        "        for q in weapons:\n",
        "            for (seller, weapon, buyer) in sells:\n",
        "                if seller == p and weapon == q and buyer in hostiles:\n",
        "                    criminal_fact = ('Criminal', p)\n",
        "                    if criminal_fact not in facts:\n",
        "                        new_facts.add(criminal_fact)\n",
        "    return new_facts\n",
        "\n",
        "# List of rules to apply\n",
        "rules = [\n",
        "    rule_enemy_to_hostile,\n",
        "    rule_missile_to_weapon,\n",
        "    rule_missile_owns_to_sells,\n",
        "    rule_criminal\n",
        "]\n",
        "\n",
        "# Forward Chaining Algorithm\n",
        "def forward_chaining(facts, rules, goal):\n",
        "    inferred = True\n",
        "    while inferred:\n",
        "        inferred = False\n",
        "        for rule in rules:\n",
        "            new_facts = rule(facts)\n",
        "            if new_facts:\n",
        "                facts.update(new_facts)\n",
        "                inferred = True\n",
        "                for f in new_facts:\n",
        "                    print(f\"Inferred: {f}\")\n",
        "                if goal in facts:\n",
        "                    print(f\"\\nGoal {goal} reached!\")\n",
        "                    return True\n",
        "    print(f\"\\nGoal {goal} not reached.\")\n",
        "    return False\n",
        "\n",
        "# Define goal\n",
        "goal = ('Criminal', 'Robert')\n",
        "\n",
        "# Run forward chaining\n",
        "forward_chaining(facts, rules, goal)\n"
      ]
    }
  ]
}