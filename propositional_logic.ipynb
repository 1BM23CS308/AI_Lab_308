{
  "nbformat": 4,
  "nbformat_minor": 0,
  "metadata": {
    "colab": {
      "provenance": [],
      "authorship_tag": "ABX9TyMGc85XM3xeE8NNabUAV0VI",
      "include_colab_link": true
    },
    "kernelspec": {
      "name": "python3",
      "display_name": "Python 3"
    },
    "language_info": {
      "name": "python"
    }
  },
  "cells": [
    {
      "cell_type": "markdown",
      "metadata": {
        "id": "view-in-github",
        "colab_type": "text"
      },
      "source": [
        "<a href=\"https://colab.research.google.com/github/1BM23CS308/AI_Lab_308/blob/main/propositional_logic.ipynb\" target=\"_parent\"><img src=\"https://colab.research.google.com/assets/colab-badge.svg\" alt=\"Open In Colab\"/></a>"
      ]
    },
    {
      "cell_type": "code",
      "execution_count": 1,
      "metadata": {
        "colab": {
          "base_uri": "https://localhost:8080/"
        },
        "id": "gERJt9_pCrfm",
        "outputId": "b63baf6a-b9d2-4f11-a4f8-adae0ed1c3c1"
      },
      "outputs": [
        {
          "output_type": "stream",
          "name": "stdout",
          "text": [
            "A\tB\tC\tA ∨ B\tA ∨ C\tB ∨ ¬C\tKB\tα\n",
            "------------------------------------------------------------\n",
            "F\tF\tF\tF\tF\tT\tF\tF\n",
            "F\tF\tT\tF\tT\tF\tF\tF\n",
            "F\tT\tF\tT\tF\tT\tF\tT\n",
            "F\tT\tT\tT\tT\tT\tT\tT\n",
            "T\tF\tF\tT\tT\tT\tT\tT\n",
            "T\tF\tT\tT\tT\tF\tF\tT\n",
            "T\tT\tF\tT\tT\tT\tT\tT\n",
            "T\tT\tT\tT\tT\tT\tT\tT\n",
            "\n",
            "KB implies α for all combinations!\n"
          ]
        }
      ],
      "source": [
        "from itertools import product\n",
        "\n",
        "# Define the formulas as functions\n",
        "def alpha(A, B, C):\n",
        "    return A or B  # α = A ∨ B\n",
        "\n",
        "def KB(A, B, C):\n",
        "    return (A or C) and (B or not C)  # KB = (A ∨ C) ∧ (B ∨ ¬C)\n",
        "\n",
        "# Generate all possible combinations of truth values for A, B, and C\n",
        "combinations = list(product([False, True], repeat=3))\n",
        "\n",
        "# Iterate through all combinations\n",
        "print(\"A\\tB\\tC\\tA ∨ B\\tA ∨ C\\tB ∨ ¬C\\tKB\\tα\")\n",
        "print(\"-\" * 60)\n",
        "for combo in combinations:\n",
        "    A, B, C = combo\n",
        "    # Calculate the truth values for each formula\n",
        "    A_or_B = alpha(A, B, C)\n",
        "    A_or_C = A or C\n",
        "    B_or_not_C = B or not C\n",
        "    kb_value = KB(A, B, C)\n",
        "    alpha_value = A_or_B\n",
        "\n",
        "    # Convert True/False to T/F\n",
        "    A, B, C = ('T' if A else 'F'), ('T' if B else 'F'), ('T' if C else 'F')\n",
        "    A_or_B = 'T' if A_or_B else 'F'\n",
        "    A_or_C = 'T' if A_or_C else 'F'\n",
        "    B_or_not_C = 'T' if B_or_not_C else 'F'\n",
        "    kb_value = 'T' if kb_value else 'F'\n",
        "    alpha_value = 'T' if alpha_value else 'F'\n",
        "\n",
        "    # Print the values in a table format\n",
        "    print(f\"{A}\\t{B}\\t{C}\\t{A_or_B}\\t{A_or_C}\\t{B_or_not_C}\\t{kb_value}\\t{alpha_value}\")\n",
        "\n",
        "    # Check if KB implies α (KB ⊨ α)\n",
        "    if kb_value == 'T' and alpha_value == 'F':\n",
        "        print(\"KB does not imply α!\")\n",
        "        break\n",
        "else:\n",
        "    print(\"\\nKB implies α for all combinations!\")\n"
      ]
    }
  ]
}