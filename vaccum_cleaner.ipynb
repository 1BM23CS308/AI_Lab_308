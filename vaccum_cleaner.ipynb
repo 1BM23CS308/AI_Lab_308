{
  "nbformat": 4,
  "nbformat_minor": 0,
  "metadata": {
    "colab": {
      "provenance": [],
      "authorship_tag": "ABX9TyNTplX1fz37M/gc7KXahMpJ",
      "include_colab_link": true
    },
    "kernelspec": {
      "name": "python3",
      "display_name": "Python 3"
    },
    "language_info": {
      "name": "python"
    }
  },
  "cells": [
    {
      "cell_type": "markdown",
      "metadata": {
        "id": "view-in-github",
        "colab_type": "text"
      },
      "source": [
        "<a href=\"https://colab.research.google.com/github/1BM23CS308/AI_Lab_308/blob/main/vaccum_cleaner.ipynb\" target=\"_parent\"><img src=\"https://colab.research.google.com/assets/colab-badge.svg\" alt=\"Open In Colab\"/></a>"
      ]
    },
    {
      "cell_type": "code",
      "execution_count": null,
      "metadata": {
        "colab": {
          "base_uri": "https://localhost:8080/"
        },
        "id": "ZMc1RoEygxBB",
        "outputId": "a77e61c7-7fe2-45f3-b93a-eb551d8404e4"
      },
      "outputs": [
        {
          "output_type": "stream",
          "name": "stdout",
          "text": [
            "Enter state of A (0 for clean, 1 for dirty): 1\n",
            "Enter state of B (0 for clean, 1 for dirty): 0\n",
            "Enter location (A or B): b\n",
            "B is clean\n",
            "Moving vacuum left\n",
            "Cleaned A.\n",
            "Is A clean now? (0 if clean, 1 if dirty): 0\n",
            "Is B dirty? (0 if clean, 1 if dirty): 0\n",
            "Cost: 2\n",
            "{'A': 0, 'B': 0}\n"
          ]
        }
      ],
      "source": [
        "def vacuum_cleaner_agent():\n",
        "\n",
        "    state_A = int(input(\"Enter state of A (0 for clean, 1 for dirty): \"))\n",
        "    state_B = int(input(\"Enter state of B (0 for clean, 1 for dirty): \"))\n",
        "    location = input(\"Enter location (A or B): \").upper()\n",
        "\n",
        "    cost = 0\n",
        "    states = {'A': state_A, 'B': state_B}\n",
        "\n",
        "    if states['A'] == 0 and states['B'] == 0:\n",
        "        print(\"Turning vacuum off\")\n",
        "        print(f\"Cost: {cost}\")\n",
        "        print(states)\n",
        "        return\n",
        "\n",
        "    def clean_location(loc):\n",
        "        nonlocal cost\n",
        "        if states[loc] == 1:\n",
        "            print(f\"Cleaned {loc}.\")\n",
        "            states[loc] = 0\n",
        "            cost += 1\n",
        "\n",
        "    if location == 'A':\n",
        "        if states['A'] == 1:\n",
        "            clean_location('A')\n",
        "        else:\n",
        "            print(\"A is clean\")\n",
        "        print(\"Moving vacuum right\")\n",
        "        cost += 1\n",
        "        if states['B'] == 1:\n",
        "            clean_location('B')\n",
        "        else:\n",
        "            print(\"B is clean\")\n",
        "\n",
        "        print(\"Is B clean now? (0 if clean, 1 if dirty):\", states['B'])\n",
        "        print(\"Is A dirty? (0 if clean, 1 if dirty):\", states['A'])\n",
        "\n",
        "        if states['A'] == 1:\n",
        "            print(\"Moving vacuum left\")\n",
        "            cost += 1\n",
        "            clean_location('A')\n",
        "\n",
        "    elif location == 'B':\n",
        "        if states['B'] == 1:\n",
        "            clean_location('B')\n",
        "        else:\n",
        "            print(\"B is clean\")\n",
        "        print(\"Moving vacuum left\")\n",
        "        cost += 1\n",
        "        if states['A'] == 1:\n",
        "            clean_location('A')\n",
        "        else:\n",
        "            print(\"A is clean\")\n",
        "\n",
        "        print(\"Is A clean now? (0 if clean, 1 if dirty):\", states['A'])\n",
        "        print(\"Is B dirty? (0 if clean, 1 if dirty):\", states['B'])\n",
        "\n",
        "        if states['B'] == 1:\n",
        "            print(\"Moving vacuum right\")\n",
        "            cost += 1\n",
        "            clean_location('B')\n",
        "\n",
        "    print(f\"Cost: {cost}\")\n",
        "    print(states)\n",
        "\n",
        "\n",
        "vacuum_cleaner_agent()\n"
      ]
    }
  ]
}