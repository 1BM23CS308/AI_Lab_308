{
  "nbformat": 4,
  "nbformat_minor": 0,
  "metadata": {
    "colab": {
      "provenance": [],
      "authorship_tag": "ABX9TyNJGUk9WYQ1pHqLVg7t3Yje",
      "include_colab_link": true
    },
    "kernelspec": {
      "name": "python3",
      "display_name": "Python 3"
    },
    "language_info": {
      "name": "python"
    }
  },
  "cells": [
    {
      "cell_type": "markdown",
      "metadata": {
        "id": "view-in-github",
        "colab_type": "text"
      },
      "source": [
        "<a href=\"https://colab.research.google.com/github/1BM23CS308/AI_Lab_308/blob/main/8puzzle(dfs).ipynb\" target=\"_parent\"><img src=\"https://colab.research.google.com/assets/colab-badge.svg\" alt=\"Open In Colab\"/></a>"
      ]
    },
    {
      "cell_type": "code",
      "source": [
        "from collections import deque\n",
        "\n",
        "print(\"Shamarao,1BM23CS308\")\n",
        "\n",
        "initial_state = ((2, 8, 3),\n",
        "                 (1, 6, 4),\n",
        "                 (7, 0, 5))\n",
        "\n",
        "goal_state = ((1, 2, 3),\n",
        "              (8, 0, 4),\n",
        "              (7, 6, 5))\n",
        "\n",
        "directions = {'Up': (-1, 0), 'Down': (1, 0), 'Left': (0, -1), 'Right': (0, 1)}\n",
        "\n",
        "def get_blank_pos(state):\n",
        "    for i in range(3):\n",
        "        for j in range(3):\n",
        "            if state[i][j] == 0:\n",
        "                return (i, j)\n",
        "\n",
        "def swap_positions(state, pos1, pos2):\n",
        "    state_list = [list(row) for row in state]\n",
        "    r1, c1 = pos1\n",
        "    r2, c2 = pos2\n",
        "    state_list[r1][c1], state_list[r2][c2] = state_list[r2][c2], state_list[r1][c1]\n",
        "    return tuple(tuple(row) for row in state_list)\n",
        "\n",
        "def get_neighbors(state):\n",
        "    neighbors = []\n",
        "    r, c = get_blank_pos(state)\n",
        "    for move, (dr, dc) in directions.items():\n",
        "        nr, nc = r + dr, c + dc\n",
        "        if 0 <= nr < 3 and 0 <= nc < 3:\n",
        "            new_state = swap_positions(state, (r, c), (nr, nc))\n",
        "            neighbors.append((new_state, move))\n",
        "    return neighbors\n",
        "\n",
        "def dfs_8_puzzle(start, goal):\n",
        "    stack = []\n",
        "    visited = set()\n",
        "    visited.add(start)\n",
        "    stack.append((start, []))\n",
        "\n",
        "    levels = []\n",
        "\n",
        "    while stack:\n",
        "        state, path = stack.pop()\n",
        "        levels.append(state)\n",
        "\n",
        "        if state == goal:\n",
        "            return path, levels, len(visited)\n",
        "\n",
        "        for neighbor, move in get_neighbors(state):\n",
        "            if neighbor not in visited:\n",
        "                visited.add(neighbor)\n",
        "                stack.append((neighbor, path + [move]))\n",
        "\n",
        "    return None, levels, len(visited)\n",
        "\n",
        "solution_path, level_states, total_visited = dfs_8_puzzle(initial_state, goal_state)\n",
        "\n",
        "print(f\"Solution length: {len(solution_path)} moves\")\n",
        "print(\"Solution moves:\", solution_path)\n",
        "print(f\"Total states visited: {total_visited}\\n\")\n",
        "\n",
        "print(\"States traversed:\")\n",
        "for i, state in enumerate(level_states):\n",
        "    print(f\"\\nState {i+1}:\")\n",
        "    for row in state:\n",
        "        print(row)\n",
        "    print(\"---\")\n"
      ],
      "metadata": {
        "id": "INgXXkKGx9Nb"
      },
      "execution_count": null,
      "outputs": []
    }
  ]
}