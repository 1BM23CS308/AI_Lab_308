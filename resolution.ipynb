{
  "nbformat": 4,
  "nbformat_minor": 0,
  "metadata": {
    "colab": {
      "provenance": [],
      "authorship_tag": "ABX9TyNdkTk5tFXzJZ5AhoTHBpsT",
      "include_colab_link": true
    },
    "kernelspec": {
      "name": "python3",
      "display_name": "Python 3"
    },
    "language_info": {
      "name": "python"
    }
  },
  "cells": [
    {
      "cell_type": "markdown",
      "metadata": {
        "id": "view-in-github",
        "colab_type": "text"
      },
      "source": [
        "<a href=\"https://colab.research.google.com/github/1BM23CS308/AI_Lab_308/blob/main/resolution.ipynb\" target=\"_parent\"><img src=\"https://colab.research.google.com/assets/colab-badge.svg\" alt=\"Open In Colab\"/></a>"
      ]
    },
    {
      "cell_type": "code",
      "execution_count": 10,
      "metadata": {
        "colab": {
          "base_uri": "https://localhost:8080/"
        },
        "id": "-Sm7nGiVLX2T",
        "outputId": "da646393-726f-4b20-97f9-6f6bc661b73c"
      },
      "outputs": [
        {
          "output_type": "stream",
          "name": "stdout",
          "text": [
            "True\n"
          ]
        }
      ],
      "source": [
        "from sympy import symbols, Or, Not\n",
        "\n",
        "P, Q, R = symbols('P Q R')\n",
        "kb = [\n",
        "    (Not(P), Q),\n",
        "    (Not(Q), R),\n",
        "    (P,)\n",
        "]\n",
        "query = R\n",
        "\n",
        "def resolve(ci, cj):\n",
        "    resolvents = set()\n",
        "    for di in ci:\n",
        "        for dj in cj:\n",
        "            if di == Not(dj) or Not(di) == dj:\n",
        "                new_clause = tuple(sorted(set(ci + cj) - {di, dj}, key=str))\n",
        "                if not new_clause:\n",
        "                    resolvents.add(())\n",
        "                else:\n",
        "                    resolvents.add(new_clause)\n",
        "    return resolvents\n",
        "\n",
        "def pl_resolution(kb, query):\n",
        "    clauses = kb + [(Not(query),)]\n",
        "    new = set()\n",
        "    while True:\n",
        "        pairs = [(clauses[i], clauses[j]) for i in range(len(clauses)) for j in range(i+1, len(clauses))]\n",
        "        for (ci, cj) in pairs:\n",
        "            resolvents = resolve(ci, cj)\n",
        "            if () in resolvents:\n",
        "                return True\n",
        "            new.update(resolvents)\n",
        "        if new.issubset(set(clauses)):\n",
        "            return False\n",
        "        for c in new:\n",
        "            if c not in clauses:\n",
        "                clauses.append(c)\n",
        "\n",
        "print(pl_resolution(kb, query))"
      ]
    }
  ]
}