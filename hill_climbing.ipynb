{
  "nbformat": 4,
  "nbformat_minor": 0,
  "metadata": {
    "colab": {
      "provenance": [],
      "authorship_tag": "ABX9TyNEONuqbHZs86hG880zhfSc",
      "include_colab_link": true
    },
    "kernelspec": {
      "name": "python3",
      "display_name": "Python 3"
    },
    "language_info": {
      "name": "python"
    }
  },
  "cells": [
    {
      "cell_type": "markdown",
      "metadata": {
        "id": "view-in-github",
        "colab_type": "text"
      },
      "source": [
        "<a href=\"https://colab.research.google.com/github/1BM23CS308/AI_Lab_308/blob/main/hill_climbing.ipynb\" target=\"_parent\"><img src=\"https://colab.research.google.com/assets/colab-badge.svg\" alt=\"Open In Colab\"/></a>"
      ]
    },
    {
      "cell_type": "code",
      "source": [
        "import random\n",
        "\n",
        "def print_board(state):\n",
        "    n = len(state)\n",
        "    for row in range(n):\n",
        "        line = \"\"\n",
        "        for col in range(n):\n",
        "            if state[col] == row:\n",
        "                line += \"Q \"\n",
        "            else:\n",
        "                line += \". \"\n",
        "        print(line)\n",
        "    print()\n",
        "\n",
        "def heuristic(state):\n",
        "    attacks = 0\n",
        "    n = len(state)\n",
        "    for i in range(n):\n",
        "        for j in range(i + 1, n):\n",
        "            if state[i] == state[j]:\n",
        "                attacks += 1\n",
        "            if abs(state[i] - state[j]) == abs(i - j):\n",
        "                attacks += 1\n",
        "    return attacks\n",
        "\n",
        "def get_neighbors(state):\n",
        "    neighbors = []\n",
        "    n = len(state)\n",
        "    for col in range(n):\n",
        "        for row in range(n):\n",
        "            if state[col] != row:\n",
        "                neighbor = list(state)\n",
        "                neighbor[col] = row\n",
        "                neighbors.append(neighbor)\n",
        "    return neighbors\n",
        "\n",
        "def hill_climbing(n=4, initial_state=None):\n",
        "    if initial_state is None:\n",
        "        current = [random.randint(0, n-1) for _ in range(n)]\n",
        "    else:\n",
        "        current = initial_state\n",
        "    current_heuristic = heuristic(current)\n",
        "    print(f\"Initial state: {current} with heuristic cost: {current_heuristic}\")\n",
        "    print(\"Initial board:\")\n",
        "    print_board(current)\n",
        "\n",
        "    while True:\n",
        "        neighbors = get_neighbors(current)\n",
        "        neighbor_heuristics = [(heuristic(nei), nei) for nei in neighbors]\n",
        "        best_heuristic, best_neighbor = min(neighbor_heuristics, key=lambda x: x[0])\n",
        "\n",
        "        if best_heuristic >= current_heuristic:\n",
        "            break\n",
        "\n",
        "        print(f\"\\nCurrent state: {current} with heuristic cost: {current_heuristic}\")\n",
        "        print(\"Current board:\")\n",
        "        print_board(current)\n",
        "\n",
        "        current, current_heuristic = best_neighbor, best_heuristic\n",
        "\n",
        "    print(f\"\\nFinal state: {current} with heuristic cost: {current_heuristic}\")\n",
        "    print(\"Final board:\")\n",
        "    print_board(current)\n",
        "\n",
        "    return current, current_heuristic\n",
        "\n",
        "def get_user_input():\n",
        "    n = int(input(\"Enter the size of the board (default is 4): \") or 4)\n",
        "    initial_state = input(f\"Enter the initial state as a space-separated list of row indices for each column (length {n}): \")\n",
        "    initial_state = list(map(int, initial_state.split()))\n",
        "    return n, initial_state\n",
        "\n",
        "n, initial_state = get_user_input()\n",
        "solution, conflicts = hill_climbing(n, initial_state)\n",
        "print(\"\\nFinal board with conflicts =\", conflicts)\n"
      ],
      "metadata": {
        "colab": {
          "base_uri": "https://localhost:8080/"
        },
        "id": "Qmk5vvSe-QAJ",
        "outputId": "43b3b9dc-31a5-4576-e4c5-eeecdd81951c"
      },
      "execution_count": 9,
      "outputs": [
        {
          "output_type": "stream",
          "name": "stdout",
          "text": [
            "Enter the size of the board (default is 4): 4\n",
            "Enter the initial state as a space-separated list of row indices for each column (length 4): 1 3 2 4\n",
            "Initial state: [1, 3, 2, 4] with heuristic cost: 2\n",
            "Initial board:\n",
            ". . . . \n",
            "Q . . . \n",
            ". . Q . \n",
            ". Q . . \n",
            "\n",
            "\n",
            "Current state: [1, 3, 2, 4] with heuristic cost: 2\n",
            "Current board:\n",
            ". . . . \n",
            "Q . . . \n",
            ". . Q . \n",
            ". Q . . \n",
            "\n",
            "\n",
            "Current state: [1, 3, 0, 4] with heuristic cost: 1\n",
            "Current board:\n",
            ". . Q . \n",
            "Q . . . \n",
            ". . . . \n",
            ". Q . . \n",
            "\n",
            "\n",
            "Final state: [1, 3, 0, 2] with heuristic cost: 0\n",
            "Final board:\n",
            ". . Q . \n",
            "Q . . . \n",
            ". . . Q \n",
            ". Q . . \n",
            "\n",
            "\n",
            "Final board with conflicts = 0\n"
          ]
        }
      ]
    }
  ]
}